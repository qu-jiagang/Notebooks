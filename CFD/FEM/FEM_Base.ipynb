{
 "cells": [
  {
   "cell_type": "code",
   "execution_count": null,
   "metadata": {
    "vscode": {
     "languageId": "plaintext"
    }
   },
   "outputs": [],
   "source": [
    "import numpy as np\n",
    "import matplotlib.pyplot as plt\n",
    "\n",
    "# 定义问题参数\n",
    "n_nodes = 11  # 节点数\n",
    "element_indices = []\n",
    "for i in range(n_nodes-1):\n",
    "    element_indices.append((i, i))\n",
    "length = 1.0  # 定义域长度\n",
    "f_value = -2  # 源项常数\n",
    "\n",
    "# 划分网格\n",
    "h = length / (n_nodes - 1)\n",
    "node_coords = np.linspace(0, 1, n_nodes)\n",
    "\n",
    "# 初始化刚度矩阵和载荷向量\n",
    "K = np.zeros((n_nodes, n_nodes))\n",
    "F = np.zeros(n_nodes)\n",
    "\n",
    "# 构建刚度矩阵和载荷向量\n",
    "for (i, j) in element_indices:\n",
    "    k_local = np.array([[1, -1], [-1, 1]]) * (1 / h)\n",
    "    f_local = np.array([f_value * h / 2, f_value * h / 2])\n",
    "    K[i:i+2, j:j+2] += k_local\n",
    "    F[i:i+2] += f_local\n",
    "\n",
    "# 应用边界条件\n",
    "K = K[1:-1, 1:-1]\n",
    "F = F[1:-1]\n",
    "\n",
    "# 求解线性系统\n",
    "u = np.linalg.solve(K, F)\n",
    "\n",
    "# 填充边界条件\n",
    "u = np.hstack([0, u, 0])\n",
    "\n",
    "# 绘制结果\n",
    "plt.plot(node_coords, u, '-o', label='Numerical Solution')\n",
    "plt.xlabel('x')\n",
    "plt.ylabel('u(x)')\n",
    "plt.title('Finite Element Solution of 1D Poisson Equation')\n",
    "plt.legend()\n",
    "plt.grid(True)\n",
    "plt.show()"
   ]
  }
 ],
 "metadata": {
  "language_info": {
   "name": "python"
  }
 },
 "nbformat": 4,
 "nbformat_minor": 2
}
